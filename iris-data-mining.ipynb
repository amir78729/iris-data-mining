{
 "cells": [
  {
   "cell_type": "code",
   "execution_count": 1,
   "metadata": {},
   "outputs": [],
   "source": [
    "import pandas as pd\n",
    "from sklearn.impute import SimpleImputer\n",
    "from sklearn import preprocessing\n",
    "import numpy as np"
   ]
  },
  {
   "cell_type": "code",
   "execution_count": null,
   "metadata": {},
   "outputs": [],
   "source": [
    "data = pd.read_csv('./iris.data', names=['sepal_length', 'sepal_width', 'petal_length', 'petal_width', 'target'])\n",
    "print(data)\n",
    "print(data.isna())\n",
    "\n",
    "imputer = SimpleImputer(missing_values=np.nan, strategy='constant')\n",
    "\n",
    "imputer = imputer.fit(data)\n",
    "\n",
    "# Imputing the data\n",
    "\n",
    "# data = imputer.transform(data)\n",
    "\n",
    "data = data.dropna()\n",
    "\n",
    "print(data)\n",
    "\n",
    "le = preprocessing.LabelEncoder()\n",
    "\n",
    "# column_trans = ColumnTransformer([('scaler', StandardScaler(), 2], remainder='passthrough')\n",
    "\n",
    "data['target'] = le.fit_transform(data.target.values)\n",
    "\n",
    "print(data)\n",
    "\n"
   ]
  }
 ],
 "metadata": {
  "kernelspec": {
   "display_name": "Python 3",
   "language": "python",
   "name": "python3"
  },
  "language_info": {
   "codemirror_mode": {
    "name": "ipython",
    "version": 3
   },
   "file_extension": ".py",
   "mimetype": "text/x-python",
   "name": "python",
   "nbconvert_exporter": "python",
   "pygments_lexer": "ipython3",
   "version": "3.8.5"
  }
 },
 "nbformat": 4,
 "nbformat_minor": 4
}
