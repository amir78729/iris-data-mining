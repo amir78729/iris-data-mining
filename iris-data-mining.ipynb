{
 "cells": [
  {
   "cell_type": "markdown",
   "metadata": {},
   "source": [
    "<div style=\"text-align: center\">\n",
    "    <h1>Homework 1 (Implementation)/h1> \n",
    "    <h2>Data Mining Course</h2> \n",
    "    <h4>Amirhossein Alibakhshi</h4> \n",
    "    <h6>(9731096)</h6> \n",
    "</div>"
   ]
  },
  {
   "cell_type": "markdown",
   "metadata": {},
   "source": [
    "# Importing Libraries 📚"
   ]
  },
  {
   "cell_type": "code",
   "execution_count": 43,
   "metadata": {},
   "outputs": [],
   "source": [
    "import numpy as np\n",
    "import pandas as pd\n",
    "import matplotlib.pyplot as plt\n",
    "from sklearn import preprocessing, compose, decomposition"
   ]
  },
  {
   "cell_type": "markdown",
   "metadata": {},
   "source": [
    "# Reading From the Dataset 📖"
   ]
  },
  {
   "cell_type": "code",
   "execution_count": 44,
   "metadata": {},
   "outputs": [
    {
     "name": "stdout",
     "output_type": "stream",
     "text": [
      "     sepal_length  sepal_width  petal_length  petal_width          target\n",
      "0             5.1          3.5           1.4          0.2     Iris-setosa\n",
      "1             4.9          3.0           1.4          0.2     Iris-setosa\n",
      "2             4.7          3.2           1.3          0.2     Iris-setosa\n",
      "3             4.6          3.1           1.5          0.2     Iris-setosa\n",
      "4             5.0          3.6           1.4          0.2     Iris-setosa\n",
      "..            ...          ...           ...          ...             ...\n",
      "154           6.3          2.5           5.0          1.9  Iris-virginica\n",
      "155           6.5          3.0           5.2          2.0  Iris-virginica\n",
      "156           6.5          3.0           5.2          2.0             NaN\n",
      "157           6.2          3.4           5.4          2.3  Iris-virginica\n",
      "158           5.9          3.0           5.1          1.8  Iris-virginica\n",
      "\n",
      "[159 rows x 5 columns]\n"
     ]
    }
   ],
   "source": [
    "col_names = ['sepal_length', 'sepal_width', 'petal_length', 'petal_width', 'target']\n",
    "\n",
    "data = pd.read_csv('./iris.data', names=col_names)\n",
    "print(data)"
   ]
  },
  {
   "cell_type": "markdown",
   "metadata": {},
   "source": [
    "---\n",
    "\n",
    "# 1. Handling Missing Values 🔎 "
   ]
  },
  {
   "cell_type": "markdown",
   "metadata": {},
   "source": [
    "## 1.1 Finding NaN Data in Dataset 🕵️\n",
    "\n",
    "- `False` : Valid Data\n",
    "- `True`: NaN Data"
   ]
  },
  {
   "cell_type": "code",
   "execution_count": 45,
   "metadata": {
    "scrolled": true
   },
   "outputs": [
    {
     "name": "stdout",
     "output_type": "stream",
     "text": [
      "     sepal_length  sepal_width  petal_length  petal_width  target\n",
      "0           False        False         False        False   False\n",
      "1           False        False         False        False   False\n",
      "2           False        False         False        False   False\n",
      "3           False        False         False        False   False\n",
      "4           False        False         False        False   False\n",
      "..            ...          ...           ...          ...     ...\n",
      "154         False        False         False        False   False\n",
      "155         False        False         False        False   False\n",
      "156         False        False         False        False    True\n",
      "157         False        False         False        False   False\n",
      "158         False        False         False        False   False\n",
      "\n",
      "[159 rows x 5 columns]\n"
     ]
    }
   ],
   "source": [
    "print(data.isna())"
   ]
  },
  {
   "cell_type": "markdown",
   "metadata": {},
   "source": [
    "## 1.2 Removing Invalid Data Using `dropna()` 🚮\n",
    "\n",
    "> After calling this method, **9** invalid rows will be removed."
   ]
  },
  {
   "cell_type": "code",
   "execution_count": 46,
   "metadata": {},
   "outputs": [
    {
     "name": "stdout",
     "output_type": "stream",
     "text": [
      "     sepal_length  sepal_width  petal_length  petal_width          target\n",
      "0             5.1          3.5           1.4          0.2     Iris-setosa\n",
      "1             4.9          3.0           1.4          0.2     Iris-setosa\n",
      "2             4.7          3.2           1.3          0.2     Iris-setosa\n",
      "3             4.6          3.1           1.5          0.2     Iris-setosa\n",
      "4             5.0          3.6           1.4          0.2     Iris-setosa\n",
      "..            ...          ...           ...          ...             ...\n",
      "153           6.7          3.0           5.2          2.3  Iris-virginica\n",
      "154           6.3          2.5           5.0          1.9  Iris-virginica\n",
      "155           6.5          3.0           5.2          2.0  Iris-virginica\n",
      "157           6.2          3.4           5.4          2.3  Iris-virginica\n",
      "158           5.9          3.0           5.1          1.8  Iris-virginica\n",
      "\n",
      "[150 rows x 5 columns]\n"
     ]
    }
   ],
   "source": [
    "data = data.dropna()\n",
    "print(data)"
   ]
  },
  {
   "cell_type": "markdown",
   "metadata": {},
   "source": [
    "---\n",
    "\n",
    "# 2. Handling Nomial Data 📜 "
   ]
  },
  {
   "cell_type": "markdown",
   "metadata": {},
   "source": [
    "## 2.1 Label Encoding (in `target` column) 🏷️\n",
    "\n",
    "### Table 📅\n",
    "\n",
    "| Nomial Value  | Numeric Value |\n",
    "|---------------|---------------|\n",
    "|Iris-setosa    | 0             |\n",
    "|Iris-versicolor| 1             |\n",
    "|Iris-virginica | 2             |\n",
    "\n",
    "### Disadvantages 🔴\n",
    "\n",
    "We have encoded a set of nominal data into numerical data. This is actually categorical data and there is no relation, of any kind, between the rows. The problem here is, since there are different numbers in the same column, the model will misunderstand the data to be in some kind of order, 0 < 1 < 2. But this isn’t the case at all."
   ]
  },
  {
   "cell_type": "code",
   "execution_count": 47,
   "metadata": {},
   "outputs": [
    {
     "name": "stdout",
     "output_type": "stream",
     "text": [
      "     sepal_length  sepal_width  petal_length  petal_width  target\n",
      "0             5.1          3.5           1.4          0.2       0\n",
      "1             4.9          3.0           1.4          0.2       0\n",
      "2             4.7          3.2           1.3          0.2       0\n",
      "3             4.6          3.1           1.5          0.2       0\n",
      "4             5.0          3.6           1.4          0.2       0\n",
      "..            ...          ...           ...          ...     ...\n",
      "153           6.7          3.0           5.2          2.3       2\n",
      "154           6.3          2.5           5.0          1.9       2\n",
      "155           6.5          3.0           5.2          2.0       2\n",
      "157           6.2          3.4           5.4          2.3       2\n",
      "158           5.9          3.0           5.1          1.8       2\n",
      "\n",
      "[150 rows x 5 columns]\n"
     ]
    }
   ],
   "source": [
    "label_encoded_data = data\n",
    "label_encoder = preprocessing.LabelEncoder()\n",
    "label_encoded_data['target'] = label_encoder.fit_transform(label_encoded_data.target.values)\n",
    "print(label_encoded_data)"
   ]
  },
  {
   "cell_type": "markdown",
   "metadata": {},
   "source": [
    "## 2.2 One Hot Encoding 🌶️\n",
    "\n",
    "### Description 📝\n",
    "\n",
    "What one hot encoding does is, it takes a column which has categorical data, which has been label encoded, and then splits the column into multiple columns. The numbers are replaced by 1s and 0s, depending on which column has what value. In our example, we’ll get three new columns, one for each category  — `Iris-setosa`, `Iris-versicolor`, and `Iris-virginica`.\n",
    "\n",
    "### Table 📅\n",
    "\n",
    "\n",
    "| Nomial Value  | t0  | t1  | t2  |\n",
    "|---------------|-----|-----|-----|\n",
    "|Iris-setosa    | 1   | 0   | 0   |\n",
    "|Iris-versicolor| 0   | 1   | 0   |\n",
    "|Iris-virginica | 0   | 0   | 1   |\n",
    "    \n",
    "\n",
    "### Example ✍️"
   ]
  },
  {
   "cell_type": "code",
   "execution_count": 60,
   "metadata": {},
   "outputs": [
    {
     "name": "stdout",
     "output_type": "stream",
     "text": [
      "     sepal_length  sepal_width  petal_length  petal_width   t0   t1   t2\n",
      "0             5.1          3.5           1.4          0.2  1.0  0.0  0.0\n",
      "1             4.9          3.0           1.4          0.2  1.0  0.0  0.0\n",
      "2             4.7          3.2           1.3          0.2  1.0  0.0  0.0\n",
      "3             4.6          3.1           1.5          0.2  1.0  0.0  0.0\n",
      "4             5.0          3.6           1.4          0.2  1.0  0.0  0.0\n",
      "..            ...          ...           ...          ...  ...  ...  ...\n",
      "145           6.7          3.0           5.2          2.3  0.0  0.0  1.0\n",
      "146           6.3          2.5           5.0          1.9  0.0  0.0  1.0\n",
      "147           6.5          3.0           5.2          2.0  0.0  0.0  1.0\n",
      "148           6.2          3.4           5.4          2.3  0.0  0.0  1.0\n",
      "149           5.9          3.0           5.1          1.8  0.0  0.0  1.0\n",
      "\n",
      "[150 rows x 7 columns]\n"
     ]
    }
   ],
   "source": [
    "one_hot_encoder = preprocessing.OneHotEncoder()\n",
    "one_hot_encoder_values = one_hot_encoder.fit_transform(data.target.values.reshape(-1,1)).toarray()\n",
    "\n",
    "one_hot_encoder_data = pd.DataFrame(\n",
    "    np.concatenate(\n",
    "        [\n",
    "            np.array(data).reshape((-1, 5))[:,:4],\n",
    "            one_hot_encoder_values\n",
    "        ],\n",
    "        axis=1\n",
    "    ), \n",
    "    columns=col_names[:4]+[\"t{}\".format(str(int(i))) for i in range(X.shape[1])]\n",
    ") \n",
    "print(one_hot_encoder_data)"
   ]
  },
  {
   "cell_type": "markdown",
   "metadata": {},
   "source": [
    "---\n",
    "\n",
    "# 3. Normalization 🔔"
   ]
  },
  {
   "cell_type": "markdown",
   "metadata": {},
   "source": [
    "## 3.1 Bofore Normalization 🔴"
   ]
  },
  {
   "cell_type": "code",
   "execution_count": 49,
   "metadata": {},
   "outputs": [
    {
     "name": "stdout",
     "output_type": "stream",
     "text": [
      "sepal_length    5.843333\n",
      "sepal_width     3.054000\n",
      "petal_length    3.758667\n",
      "petal_width     1.198667\n",
      "target          1.000000\n",
      "dtype: float64\n",
      "sepal_length    0.828066\n",
      "sepal_width     0.433594\n",
      "petal_length    1.764420\n",
      "petal_width     0.763161\n",
      "target          0.819232\n",
      "dtype: float64\n"
     ]
    }
   ],
   "source": [
    "print(label_encoded_data.mean(axis = 0))\n",
    "print(label_encoded_data.std(axis = 0))"
   ]
  },
  {
   "cell_type": "markdown",
   "metadata": {},
   "source": [
    "## 3.2 Normalizing Data Using `StandardScaler` 🟢"
   ]
  },
  {
   "cell_type": "code",
   "execution_count": 50,
   "metadata": {},
   "outputs": [
    {
     "name": "stdout",
     "output_type": "stream",
     "text": [
      "[-4.73695157e-16 -6.63173220e-16  3.31586610e-16 -2.84217094e-16\n",
      "  1.00000000e+00]\n",
      "[1.         1.         1.         1.         0.81649658]\n"
     ]
    }
   ],
   "source": [
    "scaler = preprocessing.StandardScaler()\n",
    "\n",
    "column_transformer = compose.ColumnTransformer(\n",
    "    [\n",
    "        (\n",
    "            'somename', \n",
    "            scaler, \n",
    "            col_names[:4]\n",
    "        )\n",
    "    ], remainder='passthrough'\n",
    ")\n",
    "\n",
    "scaled_data = column_transformer.fit_transform(label_encoded_data)\n",
    "\n",
    "print(scaled_data.mean(axis=0))\n",
    "print(scaled_data.std(axis=0))\n"
   ]
  },
  {
   "cell_type": "markdown",
   "metadata": {},
   "source": [
    "---\n",
    "\n",
    "# 4. Principal Component Analysis (PCA) 🗜️"
   ]
  },
  {
   "cell_type": "code",
   "execution_count": 57,
   "metadata": {},
   "outputs": [
    {
     "name": "stdout",
     "output_type": "stream",
     "text": [
      "(150, 2)\n"
     ]
    }
   ],
   "source": [
    "pca = decomposition.PCA(n_components=2)\n",
    "principal_components = pca.fit_transform(scaled_data)\n",
    "print(principal_components.shape)\n"
   ]
  },
  {
   "cell_type": "markdown",
   "metadata": {},
   "source": [
    "---\n",
    "\n",
    "# 5. Visualization 🎨 "
   ]
  },
  {
   "cell_type": "markdown",
   "metadata": {},
   "source": [
    "## 5.1 Scatter Plot 📈"
   ]
  },
  {
   "cell_type": "code",
   "execution_count": 58,
   "metadata": {},
   "outputs": [
    {
     "data": {
      "image/png": "[encoded data removed]",
      "text/plain": [
       "<Figure size 432x288 with 1 Axes>"
      ]
     },
     "metadata": {
      "needs_background": "light"
     },
     "output_type": "display_data"
    }
   ],
   "source": [
    "get_label_info = {\n",
    "    0: {\n",
    "        'name': 'Iris-setosa',\n",
    "        'color':'red'\n",
    "    },\n",
    "    1: {\n",
    "        'name': 'Iris-versicolor',\n",
    "        'color':'blue'\n",
    "    },\n",
    "    2: {\n",
    "        'name': 'Iris-virginica',\n",
    "        'color':'green'\n",
    "    },\n",
    "}\n",
    "label_encoded_data = np.array(label_encoded_data)\n",
    "fig, ax = plt.subplots()\n",
    "for label in [0, 1, 2]:\n",
    "    category_indexes = np.where(label_encoded_data[:,4] == label)\n",
    "    ax.scatter(\n",
    "        principal_components[category_indexes, 0], \n",
    "        principal_components[category_indexes, 1], \n",
    "        c=get_label_info[label]['color'], \n",
    "        label=get_label_info[label]['name']\n",
    "    )\n",
    "ax.legend()\n",
    "plt.show()"
   ]
  },
  {
   "cell_type": "markdown",
   "metadata": {},
   "source": [
    "## 5.2 Boxplot 📦"
   ]
  },
  {
   "cell_type": "code",
   "execution_count": 59,
   "metadata": {},
   "outputs": [
    {
     "data": {
      "image/png": "[encoded data removed]",
      "text/plain": [
       "<Figure size 432x288 with 1 Axes>"
      ]
     },
     "metadata": {
      "needs_background": "light"
     },
     "output_type": "display_data"
    }
   ],
   "source": [
    "fig, ax = plt.subplots()\n",
    "boxplot_data = [\n",
    "    label_encoded_data[:,0], \n",
    "    label_encoded_data[:,1], \n",
    "    label_encoded_data[:,2], \n",
    "    label_encoded_data[:,3]\n",
    "]\n",
    "ax.boxplot(boxplot_data)\n",
    "plt.show()"
   ]
  }
 ],
 "metadata": {
  "kernelspec": {
   "display_name": "Python 3",
   "language": "python",
   "name": "python3"
  },
  "language_info": {
   "codemirror_mode": {
    "name": "ipython",
    "version": 3
   },
   "file_extension": ".py",
   "mimetype": "text/x-python",
   "name": "python",
   "nbconvert_exporter": "python",
   "pygments_lexer": "ipython3",
   "version": "3.8.5"
  }
 },
 "nbformat": 4,
 "nbformat_minor": 4
}
